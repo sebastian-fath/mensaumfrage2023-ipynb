{
 "cells": [
  {
   "cell_type": "markdown",
   "id": "6955b3a43dc8f9e3",
   "metadata": {
    "collapsed": false
   },
   "source": [
    "# Auswertung der Mensa-Umfrage\n",
    "zunächst müssen die relevanten libraries importiert werden."
   ]
  },
  {
   "cell_type": "code",
   "execution_count": null,
   "id": "initial_id",
   "metadata": {
    "ExecuteTime": {
     "end_time": "2024-01-21T15:49:11.792272200Z",
     "start_time": "2024-01-21T15:49:11.700156500Z"
    },
    "collapsed": true
   },
   "outputs": [],
   "source": [
    "import pandas as pd\n",
    "import numpy\n",
    "import os\n",
    "# import plotly.express as px\n",
    "# import plotly.graph_objects as go\n",
    "import matplotlib.pyplot as plt\n",
    "import seaborn as sns\n",
    "\n",
    "\n"
   ]
  },
  {
   "cell_type": "markdown",
   "id": "10ded8c0882bec66",
   "metadata": {
    "collapsed": false
   },
   "source": [
    "Zunächst sollten die Daten der Umfrage aus der csv-Datei gelesen werden."
   ]
  },
  {
   "cell_type": "code",
   "execution_count": null,
   "id": "d28ee3aea02353b6",
   "metadata": {
    "ExecuteTime": {
     "end_time": "2024-01-21T15:49:11.904274800Z",
     "start_time": "2024-01-21T15:49:11.781745100Z"
    },
    "collapsed": false
   },
   "outputs": [],
   "source": [
    "cwdir = os.getcwd().split(\"\\\\bin\")[0]\n",
    "datadirpath = cwdir + \"\\\\20231208-2140\"\n",
    "filepath = datadirpath + \"\\\\Mensa-Umfrage - survey-results 20231208-2140.csv\"\n",
    "answerpath = cwdir + \"\\\\Mensa-Umfrage - Antwort-schlüssel-deonly.csv\"\n",
    "\n",
    "data = pd.read_csv(filepath)\n",
    "answerdata = pd.read_csv(answerpath)\n"
   ]
  },
  {
   "cell_type": "markdown",
   "id": "13c477689ad1ab18",
   "metadata": {
    "collapsed": false
   },
   "source": [
    "Werfen wir einen Blick auf die rohen Daten:"
   ]
  },
  {
   "cell_type": "code",
   "execution_count": null,
   "id": "fa9648878ab5a5d3",
   "metadata": {
    "ExecuteTime": {
     "end_time": "2024-01-21T15:49:11.905282400Z",
     "start_time": "2024-01-21T15:49:11.812438100Z"
    },
    "collapsed": false
   },
   "outputs": [],
   "source": [
    "data"
   ]
  },
  {
   "cell_type": "code",
   "execution_count": null,
   "id": "605efc8c1be3bf10",
   "metadata": {
    "ExecuteTime": {
     "end_time": "2024-01-21T15:49:11.906283Z",
     "start_time": "2024-01-21T15:49:11.836558500Z"
    },
    "collapsed": false
   },
   "outputs": [],
   "source": [
    "answerdata"
   ]
  },
  {
   "cell_type": "markdown",
   "id": "f41cdc726ff5bbec",
   "metadata": {
    "collapsed": false
   },
   "source": [
    "Um hieraus gute Abbildungen mit Matplotlib zu bauen brauchen wir einen Zähler für die Antwortmöglichkeiten:"
   ]
  },
  {
   "cell_type": "code",
   "execution_count": null,
   "id": "fad525758db3e887",
   "metadata": {
    "ExecuteTime": {
     "end_time": "2024-01-21T15:49:11.906283Z",
     "start_time": "2024-01-21T15:49:11.853028400Z"
    },
    "collapsed": false
   },
   "outputs": [],
   "source": [
    "def aggregate(col, d):\n",
    "    counter = [0,0,0,0,0,0,0,0]\n",
    "    for ans in d[col]:\n",
    "        match ans:\n",
    "            case \"AO12\":\n",
    "                counter[1] += 1\n",
    "            case \"AO22\":\n",
    "                counter[2] += 1\n",
    "            case \"AO32\":\n",
    "                counter[3] += 1\n",
    "            case \"AO42\":\n",
    "                counter[4] += 1\n",
    "            case \"AO52\":\n",
    "                counter[5] += 1\n",
    "            case \"AO62\":\n",
    "                counter[6] += 1\n",
    "            case \"AO72\":\n",
    "                counter[7] += 1\n",
    "            case _: \n",
    "                counter[0] += 1\n",
    "    return [i for i in counter if i != 0]\n",
    "                "
   ]
  },
  {
   "cell_type": "markdown",
   "id": "4a5636110c6a65d2",
   "metadata": {
    "collapsed": false
   },
   "source": [
    "Beispiel des output der \"aggregate\" fuktion"
   ]
  },
  {
   "cell_type": "code",
   "execution_count": null,
   "id": "f4b5ea0c54a2a90c",
   "metadata": {
    "ExecuteTime": {
     "end_time": "2024-01-21T15:49:11.969077300Z",
     "start_time": "2024-01-21T15:49:11.906283Z"
    },
    "collapsed": false
   },
   "outputs": [],
   "source": [
    "aggregate(\"G01Q01\", data)"
   ]
  },
  {
   "cell_type": "markdown",
   "id": "5371002a2b8e83b8",
   "metadata": {
    "collapsed": false
   },
   "source": [
    "Zwischen-schritt Auflistung der Frage-Codes, die einfach verarbeitet werden können"
   ]
  },
  {
   "cell_type": "code",
   "execution_count": null,
   "id": "64339046653761a8",
   "metadata": {
    "ExecuteTime": {
     "end_time": "2024-01-21T15:49:12.052537100Z",
     "start_time": "2024-01-21T15:49:11.956558100Z"
    },
    "collapsed": false
   },
   "outputs": [],
   "source": [
    "q_aggregate_codes = [\"G01Q01\", \"G01Q02\", \"G01Q03\", \"G01Q04\", \"G01Q05\", \"G01Q06\", \"G01Q07\", \"G01Q08\", \"G01Q09\", \"G01Q10\", \"G01Q11\", \"G01Q12\", \"G01Q13\", \"G01Q14\", \"G01Q15\", \"G01Q16\"]"
   ]
  },
  {
   "cell_type": "markdown",
   "id": "f83fcb467c407909",
   "metadata": {
    "collapsed": false
   },
   "source": [
    "Wir bauen nun aus diesen einfachen Abfragen erste Darstellungen: "
   ]
  },
  {
   "cell_type": "code",
   "execution_count": null,
   "id": "b7886714a802a0b5",
   "metadata": {
    "ExecuteTime": {
     "end_time": "2024-01-21T15:49:24.843488700Z",
     "start_time": "2024-01-21T15:49:12.061051700Z"
    },
    "collapsed": false
   },
   "outputs": [],
   "source": [
    "for code in q_aggregate_codes:\n",
    "    count = aggregate(code, data)\n",
    "    possible_answers = len(count) - 1\n",
    "    fig = plt.figure()\n",
    "    ax = fig.add_axes([0, 0, 1, 1])\n",
    "    ax.title.set_text(code + \"\\n\" + answerdata[code][0])\n",
    "    # plt.xticks(rotation=90)\n",
    "    # plt.xticks(wrap=True)\n",
    "    answers = [\"keine Antwort\"]\n",
    "    for c in range(possible_answers):\n",
    "        # answers.insert(len(answers), \"Answer {}\".format(c + 1))\n",
    "        answers.insert(len(answers), answerdata[code][c + 1])\n",
    "    perc_counts=[]\n",
    "    for c in count:\n",
    "        pc = c / sum(count)\n",
    "        perc_counts.insert(len(perc_counts), pc)\n",
    "    labels = [\"No Answer\"]\n",
    "    for i in range(len(count)-1):\n",
    "        labels.insert(len(labels), \"Answer {}\".format((i + 1)))      \n",
    "    palette = sns.color_palette(\"inferno\", len(count))\n",
    "    rects = ax.bar(labels, count, label=answers, color=palette)\n",
    "    # ax.bar(answers, count, color=palette, label=answers)\n",
    "    ax.legend(loc='best')\n",
    "    # annotate rects\n",
    "    _counter = 0\n",
    "    for rect in rects:\n",
    "        val = perc_counts[_counter]\n",
    "        p_val = round(val*100, 1)\n",
    "        ax.annotate(\"{}%\".format(p_val),\n",
    "                    xy = (rect.get_x() + rect.get_width() / 2, rect.get_height()),\n",
    "                    xytext=(0, 3),  # 3 points vertical offset\n",
    "                    textcoords=\"offset points\",\n",
    "                    ha='center', va='bottom')\n",
    "        _counter += 1         \n",
    "    \n",
    "    plt.savefig(cwdir + \"\\\\out\\\\png\\\\bar\\\\\" + code + \".png\", bbox_inches=\"tight\")\n",
    "    plt.show()\n",
    "\n",
    "    # also do pie-charts\n",
    "    fig = plt.figure()\n",
    "    ax = fig.add_axes([0, 0, 1, 1])\n",
    "    ax.title.set_text(code + \"\\n\" + answerdata[code][0])\n",
    "    answers = [\"keine Antwort\"]\n",
    "    for c in range(possible_answers):\n",
    "        # answers.insert(len(answers), \"Answer {}\".format(c + 1))\n",
    "        answers.insert(len(answers), answerdata[code][c + 1])\n",
    "    \"\"\"perc_counts=[]\n",
    "    for c in count:\n",
    "        pc = c / sum(count)\n",
    "        perc_counts.insert(len(perc_counts), pc) \"\"\" \n",
    "    palette = sns.color_palette(\"inferno\", len(count))\n",
    "    ax.pie(count, labels=answers, labeldistance=None, colors = palette,  autopct = '%.2f')\n",
    "\n",
    "    plt.legend()\n",
    "    plt.savefig(cwdir + \"\\\\out\\\\png\\\\pies\\\\\" + code + \".png\", bbox_inches=\"tight\")\n",
    "    plt.show()\n",
    "    \n",
    "    # fig = go.Figure([go.Bar(x=answers, y=count, legend='legend1')])\n",
    "    # fig.to_html(cwdir + \"/out/html/\" + code + \"/.html\")\n",
    "    # fig.show()\n",
    "\n",
    "\n",
    "print(code, count, answers, possible_answers)"
   ]
  },
  {
   "cell_type": "markdown",
   "id": "78904af8a4c19cd5",
   "metadata": {
    "collapsed": false
   },
   "source": [
    "Nach diesen einfachen geht es nun zunächst an die spezifischere Auswertung. Uns Interessieren hier vor allem die Antworten der Mitglieder lokaler Mensen: dass heisst derer, die regelmäßig im Zeughaus, in der Triplex, in der Zentralmensa.\n",
    "\n",
    "Beginnen wir mit der Zeughaus-Mensa: wir möchten also einen Datensatz aller, die bei der Frage G01Q03 \"zeughaus-Mensa im Marstall\", ergo AO12, antworteten:"
   ]
  },
  {
   "cell_type": "code",
   "execution_count": null,
   "id": "a19dc12c16964656",
   "metadata": {
    "ExecuteTime": {
     "end_time": "2024-01-21T15:49:25.138434100Z",
     "start_time": "2024-01-21T15:49:24.826437Z"
    },
    "collapsed": false
   },
   "outputs": [],
   "source": [
    "marstall_mensa_roh = [[]]\n",
    "for index, row in data.iterrows():\n",
    "    if row[\"G01Q03\"] == \"AO12\":\n",
    "        marstall_mensa_roh.append(row)"
   ]
  },
  {
   "cell_type": "markdown",
   "id": "6b4c9ca81de11959",
   "metadata": {
    "collapsed": false
   },
   "source": [
    "Wir konvertieren die generierte Liste einer Liste in ein Data-Frame und betrachten die Daten. Tatsächlich sind die Antworten bei G01Q03, wie erwartet für AO12 == 100%"
   ]
  },
  {
   "cell_type": "code",
   "execution_count": null,
   "id": "396313b7cd49e53d",
   "metadata": {
    "ExecuteTime": {
     "end_time": "2024-01-21T15:49:25.170634Z",
     "start_time": "2024-01-21T15:49:25.130921Z"
    },
    "collapsed": false
   },
   "outputs": [],
   "source": [
    "marstall_mensa_data = pd.DataFrame(marstall_mensa_roh, columns=[\"Antwort ID\", \"letzte Seite\", \"Sprache\", \"Zufallsnummer\", \"G01Q01\", \"G01Q02\", \"G01Q03\", \"G01Q04\", \"G01Q05\", \"G01Q06\", \"G01Q07\", \"G01Q08\", \"G01Q09\", \"G01Q10\", \"G01Q11\", \"G01Q12\", \"G01Q13\", \"G01Q14\", \"G01Q15\", \"G01Q16\", \"G01Q017\", \"G01Q018\"])\n",
    "marstall_mensa_data"
   ]
  },
  {
   "cell_type": "markdown",
   "id": "f331c375b1c380d0",
   "metadata": {
    "collapsed": false
   },
   "source": [
    "Wir können nun das gleiche Spiel von oben auch bei den Daten der Marstallmensa seperat ausführen."
   ]
  },
  {
   "cell_type": "code",
   "execution_count": null,
   "id": "c14164bc0d2f513e",
   "metadata": {
    "ExecuteTime": {
     "end_time": "2024-01-21T15:49:36.335441800Z",
     "start_time": "2024-01-21T15:49:25.170634Z"
    },
    "collapsed": false
   },
   "outputs": [],
   "source": [
    "for code in q_aggregate_codes:\n",
    "    count = aggregate(code, marstall_mensa_data)\n",
    "    possible_answers = len(count) - 1\n",
    "    fig = plt.figure()\n",
    "    ax = fig.add_axes([0, 0, 1, 1])\n",
    "    ax.title.set_text(\"Zeughaus | \" + code + \"\\n\" + answerdata[code][0])\n",
    "    plt.xticks(rotation=90)\n",
    "    answers = [\"keine Antwort\"]\n",
    "\n",
    "    for c in range(possible_answers):\n",
    "        # answers.insert(len(answers), \"Answer {}\".format(c + 1))\n",
    "        answers.insert(len(answers), answerdata[code][c + 1])\n",
    "    perc_counts=[]\n",
    "    for c in count:\n",
    "        pc = c / sum(count)\n",
    "        perc_counts.insert(len(perc_counts), pc)\n",
    "    labels = [\"No Answer\"]\n",
    "    for i in range(len(count)-1):\n",
    "        labels.insert(len(labels), \"Answer {}\".format((i + 1)))\n",
    "    palette = sns.color_palette(\"inferno\", len(count))\n",
    "    rects = ax.bar(labels, count, label=answers, color=palette)\n",
    "    # ax.bar(answers, count, color=palette, label=answers)\n",
    "    ax.legend(loc='best')\n",
    "    # annotate rects\n",
    "    _counter = 0\n",
    "    for rect in rects:\n",
    "        val = perc_counts[_counter]\n",
    "        p_val = round(val*100, 1)\n",
    "        ax.annotate(\"{}%\".format(p_val),\n",
    "                    xy = (rect.get_x() + rect.get_width() / 2, rect.get_height()),\n",
    "                    xytext=(0, 3),  # 3 points vertical offset\n",
    "                    textcoords=\"offset points\",\n",
    "                    ha='center', va='bottom')\n",
    "        _counter += 1\n",
    "\n",
    "    plt.savefig(cwdir + \"\\\\out\\\\png\\\\bar\\\\Zeughaus\\\\\" + code + \".png\", bbox_inches=\"tight\")\n",
    "    plt.show()\n",
    "\n",
    "    # also do pie-charts\n",
    "    fig = plt.figure()\n",
    "    ax = fig.add_axes([0, 0, 1, 1])\n",
    "    ax.title.set_text(\"Zeughaus | \" + code + \"\\n\" + answerdata[code][0])\n",
    "    answers = [\"keine Antwort\"]\n",
    "    for c in range(possible_answers):\n",
    "        # answers.insert(len(answers), \"Answer {}\".format(c + 1))\n",
    "        answers.insert(len(answers), answerdata[code][c + 1])\n",
    "    \"\"\"perc_counts=[]\n",
    "    for c in count:\n",
    "        pc = c / sum(count)\n",
    "        perc_counts.insert(len(perc_counts), pc) \"\"\"\n",
    "    palette = sns.color_palette(\"inferno\", len(count))\n",
    "    ax.pie(count, labels=answers, labeldistance=None, colors = palette,  autopct = '%.2f')\n",
    "\n",
    "    plt.legend()\n",
    "    plt.savefig(cwdir + \"\\\\out\\\\png\\\\pies\\\\Zeughaus\\\\\" + code + \".png\", bbox_inches=\"tight\")\n",
    "    plt.show()\n",
    "\n",
    "    print(code, count, answers, possible_answers)\n",
    "    "
   ]
  },
  {
   "cell_type": "markdown",
   "id": "4824b2c30363a74c",
   "metadata": {
    "collapsed": false
   },
   "source": [
    "Wir tun dies nun auch für die anderen zwei Mensen:"
   ]
  },
  {
   "cell_type": "code",
   "execution_count": null,
   "id": "749ccb8e1aca7b99",
   "metadata": {
    "ExecuteTime": {
     "end_time": "2024-01-21T15:49:57.812198200Z",
     "start_time": "2024-01-21T15:49:36.339441Z"
    },
    "collapsed": false
   },
   "outputs": [],
   "source": [
    "triplex_mensa_roh = [[]]\n",
    "for index, row in data.iterrows():\n",
    "    if row[\"G01Q03\"] == \"AO22\":\n",
    "        triplex_mensa_roh.append(row)\n",
    "\n",
    "zentral_mensa_roh = [[]]\n",
    "for index, row in data.iterrows():\n",
    "    if row[\"G01Q03\"] == \"AO32\":\n",
    "        zentral_mensa_roh.append(row)\n",
    "\n",
    "triplex_mensa_data = pd.DataFrame(triplex_mensa_roh, columns=[\"Antwort ID\", \"letzte Seite\", \"Sprache\", \"Zufallsnummer\", \"G01Q01\", \"G01Q02\", \"G01Q03\", \"G01Q04\", \"G01Q05\", \"G01Q06\", \"G01Q07\", \"G01Q08\", \"G01Q09\", \"G01Q10\", \"G01Q11\", \"G01Q12\", \"G01Q13\", \"G01Q14\", \"G01Q15\", \"G01Q16\", \"G01Q017\", \"G01Q018\"])\n",
    "\n",
    "zentral_mensa_data = pd.DataFrame(zentral_mensa_roh, columns=[\"Antwort ID\", \"letzte Seite\", \"Sprache\", \"Zufallsnummer\", \"G01Q01\", \"G01Q02\", \"G01Q03\", \"G01Q04\", \"G01Q05\", \"G01Q06\", \"G01Q07\", \"G01Q08\", \"G01Q09\", \"G01Q10\", \"G01Q11\", \"G01Q12\", \"G01Q13\", \"G01Q14\", \"G01Q15\", \"G01Q16\", \"G01Q017\", \"G01Q018\"])\n",
    "\n",
    "for code in q_aggregate_codes:\n",
    "    count = aggregate(code, triplex_mensa_data)\n",
    "    possible_answers = len(count) - 1\n",
    "    fig = plt.figure()\n",
    "    ax = fig.add_axes([0, 0, 1, 1])\n",
    "    ax.title.set_text(\"Triplex | \" + code + \"\\n\" + answerdata[code][0])\n",
    "    plt.xticks(rotation=90)\n",
    "    answers = [\"keine Antwort\"]\n",
    "    \n",
    "    for c in range(possible_answers):\n",
    "        # answers.insert(len(answers), \"Answer {}\".format(c + 1))\n",
    "        answers.insert(len(answers), answerdata[code][c + 1])\n",
    "    perc_counts=[]\n",
    "    for c in count:\n",
    "        pc = c / sum(count)\n",
    "        perc_counts.insert(len(perc_counts), pc)\n",
    "    labels = [\"No Answer\"]\n",
    "    for i in range(len(count)-1):\n",
    "        labels.insert(len(labels), \"Answer {}\".format((i + 1)))\n",
    "    palette = sns.color_palette(\"inferno\", len(count))\n",
    "    rects = ax.bar(labels, count, label=answers, color=palette)\n",
    "    # ax.bar(answers, count, color=palette, label=answers)\n",
    "    ax.legend(loc='best')\n",
    "    # annotate rects\n",
    "    _counter = 0\n",
    "    for rect in rects:\n",
    "        val = perc_counts[_counter]\n",
    "        p_val = round(val*100, 1)\n",
    "        ax.annotate(\"{}%\".format(p_val),\n",
    "                    xy = (rect.get_x() + rect.get_width() / 2, rect.get_height()),\n",
    "                    xytext=(0, 3),  # 3 points vertical offset\n",
    "                    textcoords=\"offset points\",\n",
    "                    ha='center', va='bottom')\n",
    "        _counter += 1\n",
    "\n",
    "    plt.savefig(cwdir + \"\\\\out\\\\png\\\\bar\\\\Triplex\\\\\" + code + \".png\", bbox_inches=\"tight\")\n",
    "    plt.show()\n",
    "\n",
    "    # also do pie-charts\n",
    "    fig = plt.figure()\n",
    "    ax = fig.add_axes([0, 0, 1, 1])\n",
    "    ax.title.set_text(\"Triplex | \" + code + \"\\n\" + answerdata[code][0])\n",
    "    answers = [\"keine Antwort\"]\n",
    "    for c in range(possible_answers):\n",
    "        # answers.insert(len(answers), \"Answer {}\".format(c + 1))\n",
    "        answers.insert(len(answers), answerdata[code][c + 1])\n",
    "    \"\"\"perc_counts=[]\n",
    "    for c in count:\n",
    "        pc = c / sum(count)\n",
    "        perc_counts.insert(len(perc_counts), pc) \"\"\"\n",
    "    palette = sns.color_palette(\"inferno\", len(count))\n",
    "    ax.pie(count, labels=answers, labeldistance=None, colors = palette,  autopct = '%.2f')\n",
    "\n",
    "    plt.legend()\n",
    "    plt.savefig(cwdir + \"\\\\out\\\\png\\\\pies\\\\Triplex\\\\\" + code + \".png\", bbox_inches=\"tight\")\n",
    "    plt.show()\n",
    "    \n",
    "    \n",
    "    print(code, count, answers, possible_answers)\n",
    "\n",
    "\n",
    "\n",
    "for code in q_aggregate_codes:\n",
    "    count = aggregate(code, zentral_mensa_data)\n",
    "    possible_answers = len(count) - 1\n",
    "    fig = plt.figure()\n",
    "    ax = fig.add_axes([0, 0, 1, 1])\n",
    "    ax.title.set_text(\"Zentralmensa | \" + code + \"\\n\" + answerdata[code][0])\n",
    "    plt.xticks(rotation=90)\n",
    "    \n",
    "    answers = [\"keine Antwort\"]\n",
    "    for c in range(possible_answers):\n",
    "        # answers.insert(len(answers), \"Answer {}\".format(c + 1))\n",
    "        answers.insert(len(answers), answerdata[code][c + 1])\n",
    "    perc_counts=[]\n",
    "    for c in count:\n",
    "        pc = c / sum(count)\n",
    "        perc_counts.insert(len(perc_counts), pc)\n",
    "    labels = [\"No Answer\"]\n",
    "    for i in range(len(count)-1):\n",
    "        labels.insert(len(labels), \"Answer {}\".format((i + 1)))\n",
    "    palette = sns.color_palette(\"inferno\", len(count))\n",
    "    rects = ax.bar(labels, count, label=answers, color=palette)\n",
    "    # ax.bar(answers, count, color=palette, label=answers)\n",
    "    ax.legend(loc='best')\n",
    "    # annotate rects\n",
    "    _counter = 0\n",
    "    for rect in rects:\n",
    "        val = perc_counts[_counter]\n",
    "        p_val = round(val*100, 1)\n",
    "        ax.annotate(\"{}%\".format(p_val),\n",
    "                    xy = (rect.get_x() + rect.get_width() / 2, rect.get_height()),\n",
    "                    xytext=(0, 3),  # 3 points vertical offset\n",
    "                    textcoords=\"offset points\",\n",
    "                    ha='center', va='bottom')\n",
    "        _counter += 1\n",
    "\n",
    "    plt.savefig(cwdir + \"\\\\out\\\\png\\\\bar\\\\Zentral\\\\\" + code + \".png\", bbox_inches=\"tight\")\n",
    "    plt.show()\n",
    "\n",
    "    # also do pie-charts\n",
    "    fig = plt.figure()\n",
    "    ax = fig.add_axes([0, 0, 1, 1])\n",
    "    ax.title.set_text(\"Zentralmensa | \" + code + \"\\n\" + answerdata[code][0])\n",
    "    answers = [\"keine Antwort\"]\n",
    "    for c in range(possible_answers):\n",
    "        # answers.insert(len(answers), \"Answer {}\".format(c + 1))\n",
    "        answers.insert(len(answers), answerdata[code][c + 1])\n",
    "    \"\"\"perc_counts=[]\n",
    "    for c in count:\n",
    "        pc = c / sum(count)\n",
    "        perc_counts.insert(len(perc_counts), pc) \"\"\"\n",
    "    palette = sns.color_palette(\"inferno\", len(count))\n",
    "    ax.pie(count, labels=answers, labeldistance=None, colors = palette,  autopct = '%.2f')\n",
    "\n",
    "    plt.legend()\n",
    "    plt.savefig(cwdir + \"\\\\out\\\\png\\\\pies\\\\Zentral\\\\\" + code + \".png\", bbox_inches=\"tight\")\n",
    "    plt.show()\n",
    "    \n",
    "    print(code, count, answers, possible_answers)\n",
    "\n"
   ]
  },
  {
   "cell_type": "markdown",
   "id": "c6caead8bba363d3",
   "metadata": {
    "collapsed": false
   },
   "source": [
    "Eine wichtige Abfrage wäre die Zählung mit Gewichtung nach Häufigkeit des Besuch. Dies Versuche ich nun hier zu implementieren. Wir nehmen ein paar Dinge hierzu an: A) Wer nicht geantwortet hat will nicht, ergo gewicht = 0; B) wer geantwortet hat aber nie in die Mnesa geht hat eine geringe Bereitschaft in die Mensa zu gehen - ergo Gewicht = .2. C) Wer öfter als fünf mal in der Woche in die Mensa geht geht nicht arg viel öfter als 6x - ergo gewicht = 6.1\n",
    "\n",
    "Kleine Anmerkung zu `return [i for i in counter if i != 0]`: Es gibt keinen Fall, wo eine Antwort-möglichkeit nicht ausgewählt wurde. Deshalb funktioniert dies *in diesem Fall*"
   ]
  },
  {
   "cell_type": "code",
   "execution_count": null,
   "id": "83599adb340de986",
   "metadata": {
    "ExecuteTime": {
     "end_time": "2024-01-21T15:49:58.599298Z",
     "start_time": "2024-01-21T15:49:58.589089600Z"
    },
    "collapsed": false
   },
   "outputs": [],
   "source": [
    "\n",
    "def aggregate_weighted(col, d, w_col):\n",
    "    counter = [0,0,0,0,0,0,0,0]\n",
    "    if w_col == \"G01Q02\":\n",
    "        w_col = 5\n",
    "    for ans in d[col]:\n",
    "        print(d[col][w_col])\n",
    "        match d[col][w_col]:\n",
    "            case \"AO12\":\n",
    "                inc = 1\n",
    "            case \"AO22\":\n",
    "                inc = 2\n",
    "            case \"AO32\":\n",
    "                inc = 3.5\n",
    "            case \"AO42\":\n",
    "                inc = 5\n",
    "            case \"AO52\":\n",
    "                inc = 6.1\n",
    "            case _:\n",
    "                inc = 0\n",
    "        match ans:\n",
    "            case \"AO12\":\n",
    "                counter[1] += inc\n",
    "            case \"AO22\":\n",
    "                counter[2] += inc\n",
    "            case \"AO32\":\n",
    "                counter[3] += inc\n",
    "            case \"AO42\":\n",
    "                counter[4] += inc\n",
    "            case \"AO52\":\n",
    "                counter[5] += inc\n",
    "            case \"AO62\":\n",
    "                counter[6] += inc\n",
    "            case \"AO72\":\n",
    "                counter[7] += inc\n",
    "            case _:\n",
    "                counter[0] += inc\n",
    "    return [i for i in counter if i != 0]\n",
    "    \n"
   ]
  },
  {
   "cell_type": "code",
   "execution_count": null,
   "id": "306e98c51c7a0092",
   "metadata": {
    "ExecuteTime": {
     "end_time": "2024-01-21T15:50:01.900112500Z",
     "start_time": "2024-01-21T15:49:58.594281Z"
    },
    "collapsed": false
   },
   "outputs": [],
   "source": [
    "\n",
    "q_aggregate_code_weighted_st = [\"G01Q01\", \"G01Q02\", \"G01Q05\"]\n",
    "\n",
    "for code in q_aggregate_codes:\n",
    "    count = aggregate_weighted(code, data, \"G01Q02\")\n",
    "    possible_answers = len(count) - 1\n",
    "    fig = plt.figure()\n",
    "    ax = fig.add_axes([0, 0, 1, 1])\n",
    "    ax.title.set_text(code + \" | Weighted\\n\" + answerdata[code][0])\n",
    "    plt.xticks(rotation=90)\n",
    "    answers = [\"keine Antwort\"]\n",
    "    for c in range(possible_answers):\n",
    "        # answers.insert(len(answers), \"Answer {}\".format(c + 1))\n",
    "        answers.insert(len(answers), answerdata[code][c + 1])\n",
    "    palette = sns.color_palette(\"inferno\", len(count))\n",
    "    ax.bar(range(0,len(count)), count, label=answers, color=palette)\n",
    "    ax.legend()\n",
    "    plt.savefig(cwdir + \"\\\\out\\\\png\\\\bar\\\\weighted\\\\\" + code + \".png\", bbox_inches=\"tight\")\n",
    "    print(code, count, answers, possible_answers)\n",
    "\n",
    "for code in q_aggregate_codes:\n",
    "    count = aggregate_weighted(code, marstall_mensa_data, \"G01Q02\")\n",
    "    possible_answers = len(count) - 1\n",
    "    fig = plt.figure()\n",
    "    ax = fig.add_axes([0, 0, 1, 1])\n",
    "    ax.title.set_text(\"Zeughaus | \" + code + \" | Weighted\\n\" + answerdata[code][0])\n",
    "    plt.xticks(rotation=90)\n",
    "    answers = [\"keine Antwort\"]\n",
    "    for c in range(possible_answers):\n",
    "        # answers.insert(len(answers), \"Answer {}\".format(c + 1))\n",
    "        answers.insert(len(answers), answerdata[code][c + 1])\n",
    "    palette = sns.color_palette(\"inferno\", len(count))\n",
    "    ax.bar(range(0,len(count)), count, label=answers, color=palette)\n",
    "    ax.legend()\n",
    "    plt.savefig(cwdir + \"\\\\out\\\\png\\\\bar\\\\weighted\\\\Zeughaus\\\\\" + code + \".png\", bbox_inches=\"tight\")\n",
    "    plt.show()\n",
    "    print(code, count, answers, possible_answers)\n",
    "\n",
    "for code in q_aggregate_codes:\n",
    "    count = aggregate_weighted(code, triplex_mensa_data, \"G01Q02\")\n",
    "    possible_answers = len(count) - 1\n",
    "    fig = plt.figure()\n",
    "    ax = fig.add_axes([0, 0, 1, 1])\n",
    "    ax.title.set_text(\"Triplex | \" + code + \" | Weigthed\\n\" + answerdata[code][0])\n",
    "    plt.xticks(rotation=90)\n",
    "    answers = [\"keine Antwort\"]\n",
    "    for c in range(possible_answers):\n",
    "        # answers.insert(len(answers), \"Answer {}\".format(c + 1))\n",
    "        answers.insert(len(answers), answerdata[code][c + 1])\n",
    "    palette = sns.color_palette(\"inferno\", len(count))\n",
    "    ax.bar(range(0,len(count)), count, label=answers, color=palette)\n",
    "    ax.legend()\n",
    "    plt.savefig(cwdir + \"\\\\out\\\\png\\\\bar\\\\weighted\\\\Triplex\\\\\" + code + \".png\", bbox_inches=\"tight\")\n",
    "    plt.show()\n",
    "    print(code, count, answers, possible_answers)\n",
    "\n",
    "for code in q_aggregate_codes:\n",
    "    count = aggregate_weighted(code, zentral_mensa_data, \"G01Q02\")\n",
    "    possible_answers = len(count) - 1\n",
    "    fig = plt.figure()\n",
    "    ax = fig.add_axes([0, 0, 1, 1])\n",
    "    ax.title.set_text(\"Zentralmensa | \" + code + \" | Weighted \\n\" + answerdata[code][0])\n",
    "    plt.xticks(rotation=90)\n",
    "    answers = [\"keine Antwort\"]\n",
    "    for c in range(possible_answers):\n",
    "        # answers.insert(len(answers), \"Answer {}\".format(c + 1))\n",
    "        answers.insert(len(answers), answerdata[code][c + 1])\n",
    "    palette = sns.color_palette(\"inferno\", len(count))\n",
    "    ax.bar(range(0,len(count)), count, label=answers, color=palette)\n",
    "    ax.legend()\n",
    "    plt.savefig(cwdir + \"\\\\out\\\\png\\\\bar\\\\weighted\\\\Zentral\\\\\" + code + \".png\", bbox_inches=\"tight\")\n",
    "    plt.show()\n",
    "    print(code, count, answers, possible_answers)\n"
   ]
  }
 ],
 "metadata": {
  "kernelspec": {
   "display_name": "Python 3",
   "language": "python",
   "name": "python3"
  },
  "language_info": {
   "codemirror_mode": {
    "name": "ipython",
    "version": 2
   },
   "file_extension": ".py",
   "mimetype": "text/x-python",
   "name": "python",
   "nbconvert_exporter": "python",
   "pygments_lexer": "ipython2",
   "version": "2.7.6"
  }
 },
 "nbformat": 4,
 "nbformat_minor": 5
}
